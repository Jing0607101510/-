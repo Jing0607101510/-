{
 "cells": [
  {
   "cell_type": "markdown",
   "metadata": {},
   "source": [
    "# 机器学习作业 1 - 线性回归"
   ]
  },
  {
   "cell_type": "markdown",
   "metadata": {},
   "source": [
    "## 1.单变量线性回归"
   ]
  },
  {
   "cell_type": "markdown",
   "metadata": {},
   "source": [
    "导入需要使用的包"
   ]
  },
  {
   "cell_type": "code",
   "execution_count": 6,
   "metadata": {},
   "outputs": [],
   "source": [
    "import numpy as np\n",
    "import pandas as pd\n",
    "import matplotlib.pyplot as plt"
   ]
  },
  {
   "cell_type": "markdown",
   "metadata": {},
   "source": [
    "导入数据集。提醒大家：一定要把数据文件ex1data1.txt放在和程序同一个文件夹里，否则需要使用绝对路径访问文件"
   ]
  },
  {
   "cell_type": "code",
   "execution_count": 7,
   "metadata": {},
   "outputs": [
    {
     "data": {
      "text/html": [
       "<div>\n",
       "<style scoped>\n",
       "    .dataframe tbody tr th:only-of-type {\n",
       "        vertical-align: middle;\n",
       "    }\n",
       "\n",
       "    .dataframe tbody tr th {\n",
       "        vertical-align: top;\n",
       "    }\n",
       "\n",
       "    .dataframe thead th {\n",
       "        text-align: right;\n",
       "    }\n",
       "</style>\n",
       "<table border=\"1\" class=\"dataframe\">\n",
       "  <thead>\n",
       "    <tr style=\"text-align: right;\">\n",
       "      <th></th>\n",
       "      <th>Population</th>\n",
       "      <th>Profit</th>\n",
       "    </tr>\n",
       "  </thead>\n",
       "  <tbody>\n",
       "    <tr>\n",
       "      <th>0</th>\n",
       "      <td>6.1101</td>\n",
       "      <td>17.5920</td>\n",
       "    </tr>\n",
       "    <tr>\n",
       "      <th>1</th>\n",
       "      <td>5.5277</td>\n",
       "      <td>9.1302</td>\n",
       "    </tr>\n",
       "    <tr>\n",
       "      <th>2</th>\n",
       "      <td>8.5186</td>\n",
       "      <td>13.6620</td>\n",
       "    </tr>\n",
       "    <tr>\n",
       "      <th>3</th>\n",
       "      <td>7.0032</td>\n",
       "      <td>11.8540</td>\n",
       "    </tr>\n",
       "    <tr>\n",
       "      <th>4</th>\n",
       "      <td>5.8598</td>\n",
       "      <td>6.8233</td>\n",
       "    </tr>\n",
       "  </tbody>\n",
       "</table>\n",
       "</div>"
      ],
      "text/plain": [
       "   Population   Profit\n",
       "0      6.1101  17.5920\n",
       "1      5.5277   9.1302\n",
       "2      8.5186  13.6620\n",
       "3      7.0032  11.8540\n",
       "4      5.8598   6.8233"
      ]
     },
     "execution_count": 7,
     "metadata": {},
     "output_type": "execute_result"
    }
   ],
   "source": [
    "path =  'ex1data1.txt'\n",
    "data = pd.read_csv(path, header=None, names=['Population', 'Profit'])\n",
    "data.head()  #预览数据"
   ]
  },
  {
   "cell_type": "code",
   "execution_count": 8,
   "metadata": {},
   "outputs": [
    {
     "data": {
      "text/html": [
       "<div>\n",
       "<style scoped>\n",
       "    .dataframe tbody tr th:only-of-type {\n",
       "        vertical-align: middle;\n",
       "    }\n",
       "\n",
       "    .dataframe tbody tr th {\n",
       "        vertical-align: top;\n",
       "    }\n",
       "\n",
       "    .dataframe thead th {\n",
       "        text-align: right;\n",
       "    }\n",
       "</style>\n",
       "<table border=\"1\" class=\"dataframe\">\n",
       "  <thead>\n",
       "    <tr style=\"text-align: right;\">\n",
       "      <th></th>\n",
       "      <th>Population</th>\n",
       "      <th>Profit</th>\n",
       "    </tr>\n",
       "  </thead>\n",
       "  <tbody>\n",
       "    <tr>\n",
       "      <th>count</th>\n",
       "      <td>97.000000</td>\n",
       "      <td>97.000000</td>\n",
       "    </tr>\n",
       "    <tr>\n",
       "      <th>mean</th>\n",
       "      <td>8.159800</td>\n",
       "      <td>5.839135</td>\n",
       "    </tr>\n",
       "    <tr>\n",
       "      <th>std</th>\n",
       "      <td>3.869884</td>\n",
       "      <td>5.510262</td>\n",
       "    </tr>\n",
       "    <tr>\n",
       "      <th>min</th>\n",
       "      <td>5.026900</td>\n",
       "      <td>-2.680700</td>\n",
       "    </tr>\n",
       "    <tr>\n",
       "      <th>25%</th>\n",
       "      <td>5.707700</td>\n",
       "      <td>1.986900</td>\n",
       "    </tr>\n",
       "    <tr>\n",
       "      <th>50%</th>\n",
       "      <td>6.589400</td>\n",
       "      <td>4.562300</td>\n",
       "    </tr>\n",
       "    <tr>\n",
       "      <th>75%</th>\n",
       "      <td>8.578100</td>\n",
       "      <td>7.046700</td>\n",
       "    </tr>\n",
       "    <tr>\n",
       "      <th>max</th>\n",
       "      <td>22.203000</td>\n",
       "      <td>24.147000</td>\n",
       "    </tr>\n",
       "  </tbody>\n",
       "</table>\n",
       "</div>"
      ],
      "text/plain": [
       "       Population     Profit\n",
       "count   97.000000  97.000000\n",
       "mean     8.159800   5.839135\n",
       "std      3.869884   5.510262\n",
       "min      5.026900  -2.680700\n",
       "25%      5.707700   1.986900\n",
       "50%      6.589400   4.562300\n",
       "75%      8.578100   7.046700\n",
       "max     22.203000  24.147000"
      ]
     },
     "execution_count": 8,
     "metadata": {},
     "output_type": "execute_result"
    }
   ],
   "source": [
    "data.describe()"
   ]
  },
  {
   "cell_type": "markdown",
   "metadata": {},
   "source": [
    "数据可视化，绘制散点图"
   ]
  },
  {
   "cell_type": "code",
   "execution_count": 9,
   "metadata": {},
   "outputs": [
    {
     "data": {
      "image/png": "[encoded data removed]",
      "text/plain": [
       "<matplotlib.figure.Figure at 0x171b5983470>"
      ]
     },
     "metadata": {},
     "output_type": "display_data"
    }
   ],
   "source": [
    "data.plot(kind='scatter', x='Population', y='Profit', figsize=(12,8))\n",
    "plt.show()"
   ]
  },
  {
   "cell_type": "markdown",
   "metadata": {},
   "source": [
    "现在让我们使用梯度下降来实现线性回归，以最小化成本函数。 以下代码示例中实现的方程在“练习”文件夹中的“ex1.pdf”中有详细说明。"
   ]
  },
  {
   "cell_type": "markdown",
   "metadata": {},
   "source": [
    "首先，我们将创建一个以参数θ为特征函数的代价函数\n",
    "$$J\\left( \\theta  \\right)=\\frac{1}{2m}\\sum\\limits_{i=1}^{m}{{{\\left( {{h}_{\\theta }}\\left( {{x}^{(i)}} \\right)-{{y}^{(i)}} \\right)}^{2}}}$$\n",
    "其中：\\\\[{{h}_{\\theta }}\\left( x \\right)={{\\theta }^{T}}X={{\\theta }_{0}}{{x}_{0}}+{{\\theta }_{1}}{{x}_{1}}+{{\\theta }_{2}}{{x}_{2}}+...+{{\\theta }_{n}}{{x}_{n}}\\\\] "
   ]
  },
  {
   "cell_type": "code",
   "execution_count": 3,
   "metadata": {},
   "outputs": [],
   "source": [
    "def computeCost(X, y, theta):\n",
    "    # your code here  (appro ~ 2 lines)\n",
    "    m = y.shape[0]\n",
    "    cost = np.dot((X.dot(theta.T)-y).T, (X.dot(theta.T)-y)) / (2*m)\n",
    "    return cost"
   ]
  },
  {
   "cell_type": "markdown",
   "metadata": {},
   "source": [
    "让我们在训练集中添加一列，以便我们可以使用向量化的解决方案来计算代价和梯度。"
   ]
  },
  {
   "cell_type": "code",
   "execution_count": 10,
   "metadata": {},
   "outputs": [],
   "source": [
    "data.insert(0, 'Ones', 1)"
   ]
  },
  {
   "cell_type": "markdown",
   "metadata": {},
   "source": [
    "现在我们来做一些变量初始化。"
   ]
  },
  {
   "cell_type": "code",
   "execution_count": 14,
   "metadata": {},
   "outputs": [
    {
     "name": "stdout",
     "output_type": "stream",
     "text": [
      "<class 'pandas.core.frame.DataFrame'>\n",
      "      Profit\n",
      "0   17.59200\n",
      "1    9.13020\n",
      "2   13.66200\n",
      "3   11.85400\n",
      "4    6.82330\n",
      "5   11.88600\n",
      "6    4.34830\n",
      "7   12.00000\n",
      "8    6.59870\n",
      "9    3.81660\n",
      "10   3.25220\n",
      "11  15.50500\n",
      "12   3.15510\n",
      "13   7.22580\n",
      "14   0.71618\n",
      "15   3.51290\n",
      "16   5.30480\n",
      "17   0.56077\n",
      "18   3.65180\n",
      "19   5.38930\n",
      "20   3.13860\n",
      "21  21.76700\n",
      "22   4.26300\n",
      "23   5.18750\n",
      "24   3.08250\n",
      "25  22.63800\n",
      "26  13.50100\n",
      "27   7.04670\n",
      "28  14.69200\n",
      "29  24.14700\n",
      "..       ...\n",
      "67   7.77540\n",
      "68   1.01730\n",
      "69  20.99200\n",
      "70   6.67990\n",
      "71   4.02590\n",
      "72   1.27840\n",
      "73   3.34110\n",
      "74  -2.68070\n",
      "75   0.29678\n",
      "76   3.88450\n",
      "77   5.70140\n",
      "78   6.75260\n",
      "79   2.05760\n",
      "80   0.47953\n",
      "81   0.20421\n",
      "82   0.67861\n",
      "83   7.54350\n",
      "84   5.34360\n",
      "85   4.24150\n",
      "86   6.79810\n",
      "87   0.92695\n",
      "88   0.15200\n",
      "89   2.82140\n",
      "90   1.84510\n",
      "91   4.29590\n",
      "92   7.20290\n",
      "93   1.98690\n",
      "94   0.14454\n",
      "95   9.05510\n",
      "96   0.61705\n",
      "\n",
      "[97 rows x 1 columns]\n"
     ]
    }
   ],
   "source": [
    "# set X (training data) and y (target variable)\n",
    "cols = data.shape[1]\n",
    "X = data.iloc[:,0:cols-1]#X是所有行，去掉最后一列\n",
    "y = data.iloc[:,cols-1:cols]#X是所有行，最后一列\n",
    "print(type(y))\n",
    "print(y)"
   ]
  },
  {
   "cell_type": "markdown",
   "metadata": {},
   "source": [
    "观察下 X (训练集) and y (目标变量)是否正确."
   ]
  },
  {
   "cell_type": "code",
   "execution_count": 143,
   "metadata": {
    "scrolled": true
   },
   "outputs": [
    {
     "data": {
      "text/html": [
       "<div>\n",
       "<style scoped>\n",
       "    .dataframe tbody tr th:only-of-type {\n",
       "        vertical-align: middle;\n",
       "    }\n",
       "\n",
       "    .dataframe tbody tr th {\n",
       "        vertical-align: top;\n",
       "    }\n",
       "\n",
       "    .dataframe thead th {\n",
       "        text-align: right;\n",
       "    }\n",
       "</style>\n",
       "<table border=\"1\" class=\"dataframe\">\n",
       "  <thead>\n",
       "    <tr style=\"text-align: right;\">\n",
       "      <th></th>\n",
       "      <th>Ones</th>\n",
       "      <th>Population</th>\n",
       "    </tr>\n",
       "  </thead>\n",
       "  <tbody>\n",
       "    <tr>\n",
       "      <th>0</th>\n",
       "      <td>1</td>\n",
       "      <td>6.1101</td>\n",
       "    </tr>\n",
       "    <tr>\n",
       "      <th>1</th>\n",
       "      <td>1</td>\n",
       "      <td>5.5277</td>\n",
       "    </tr>\n",
       "    <tr>\n",
       "      <th>2</th>\n",
       "      <td>1</td>\n",
       "      <td>8.5186</td>\n",
       "    </tr>\n",
       "    <tr>\n",
       "      <th>3</th>\n",
       "      <td>1</td>\n",
       "      <td>7.0032</td>\n",
       "    </tr>\n",
       "    <tr>\n",
       "      <th>4</th>\n",
       "      <td>1</td>\n",
       "      <td>5.8598</td>\n",
       "    </tr>\n",
       "  </tbody>\n",
       "</table>\n",
       "</div>"
      ],
      "text/plain": [
       "   Ones  Population\n",
       "0     1      6.1101\n",
       "1     1      5.5277\n",
       "2     1      8.5186\n",
       "3     1      7.0032\n",
       "4     1      5.8598"
      ]
     },
     "execution_count": 143,
     "metadata": {},
     "output_type": "execute_result"
    }
   ],
   "source": [
    "X.head()#head()是观察前5行"
   ]
  },
  {
   "cell_type": "code",
   "execution_count": 144,
   "metadata": {},
   "outputs": [
    {
     "data": {
      "text/html": [
       "<div>\n",
       "<style scoped>\n",
       "    .dataframe tbody tr th:only-of-type {\n",
       "        vertical-align: middle;\n",
       "    }\n",
       "\n",
       "    .dataframe tbody tr th {\n",
       "        vertical-align: top;\n",
       "    }\n",
       "\n",
       "    .dataframe thead th {\n",
       "        text-align: right;\n",
       "    }\n",
       "</style>\n",
       "<table border=\"1\" class=\"dataframe\">\n",
       "  <thead>\n",
       "    <tr style=\"text-align: right;\">\n",
       "      <th></th>\n",
       "      <th>Profit</th>\n",
       "    </tr>\n",
       "  </thead>\n",
       "  <tbody>\n",
       "    <tr>\n",
       "      <th>0</th>\n",
       "      <td>17.5920</td>\n",
       "    </tr>\n",
       "    <tr>\n",
       "      <th>1</th>\n",
       "      <td>9.1302</td>\n",
       "    </tr>\n",
       "    <tr>\n",
       "      <th>2</th>\n",
       "      <td>13.6620</td>\n",
       "    </tr>\n",
       "    <tr>\n",
       "      <th>3</th>\n",
       "      <td>11.8540</td>\n",
       "    </tr>\n",
       "    <tr>\n",
       "      <th>4</th>\n",
       "      <td>6.8233</td>\n",
       "    </tr>\n",
       "  </tbody>\n",
       "</table>\n",
       "</div>"
      ],
      "text/plain": [
       "    Profit\n",
       "0  17.5920\n",
       "1   9.1302\n",
       "2  13.6620\n",
       "3  11.8540\n",
       "4   6.8233"
      ]
     },
     "execution_count": 144,
     "metadata": {},
     "output_type": "execute_result"
    }
   ],
   "source": [
    "y.head()"
   ]
  },
  {
   "cell_type": "markdown",
   "metadata": {},
   "source": [
    "代价函数是应该是numpy矩阵，所以我们需要转换X和Y，然后才能使用它们。 我们还需要初始化theta，即把theta所有元素都设置为0."
   ]
  },
  {
   "cell_type": "code",
   "execution_count": 145,
   "metadata": {},
   "outputs": [],
   "source": [
    "X = np.matrix(X.values)\n",
    "y = np.matrix(y.values)\n",
    "# your code here  (appro ~ 1 lines)\n",
    "theta = np.matrix([0, 0])"
   ]
  },
  {
   "cell_type": "markdown",
   "metadata": {},
   "source": [
    "theta 是一个(1,2)矩阵"
   ]
  },
  {
   "cell_type": "code",
   "execution_count": 148,
   "metadata": {},
   "outputs": [
    {
     "data": {
      "text/plain": [
       "matrix([[0, 0]])"
      ]
     },
     "execution_count": 148,
     "metadata": {},
     "output_type": "execute_result"
    }
   ],
   "source": [
    "theta"
   ]
  },
  {
   "cell_type": "markdown",
   "metadata": {},
   "source": [
    "看下维度"
   ]
  },
  {
   "cell_type": "code",
   "execution_count": 149,
   "metadata": {},
   "outputs": [
    {
     "data": {
      "text/plain": [
       "((97, 2), (1, 2), (97, 1))"
      ]
     },
     "execution_count": 149,
     "metadata": {},
     "output_type": "execute_result"
    }
   ],
   "source": [
    "X.shape, theta.shape, y.shape"
   ]
  },
  {
   "cell_type": "markdown",
   "metadata": {},
   "source": [
    "计算代价函数 (theta初始值为0)."
   ]
  },
  {
   "cell_type": "code",
   "execution_count": 182,
   "metadata": {},
   "outputs": [
    {
     "data": {
      "text/plain": [
       "matrix([[32.07273388]])"
      ]
     },
     "execution_count": 182,
     "metadata": {},
     "output_type": "execute_result"
    }
   ],
   "source": [
    "computeCost(X, y, theta)"
   ]
  },
  {
   "cell_type": "markdown",
   "metadata": {},
   "source": [
    "# 2.batch gradient decent（批量梯度下降）\n",
    "$${{\\theta }_{j}}:={{\\theta }_{j}}-\\alpha \\frac{\\partial }{\\partial {{\\theta }_{j}}}J\\left( \\theta  \\right)$$"
   ]
  },
  {
   "cell_type": "code",
   "execution_count": 167,
   "metadata": {},
   "outputs": [],
   "source": [
    "def gradientDescent(X, y, theta, alpha, iters):\n",
    "    temp = np.matrix(np.zeros(theta.shape))\n",
    "    parameters = int(theta.shape[1])\n",
    "    cost = np.zeros(iters)\n",
    "    m = y.shape[0]\n",
    "    \n",
    "    for i in range(iters):\n",
    "        # your code here  (appro ~ 1 lines)\n",
    "        cost[i] = computeCost(X,y,theta)\n",
    "        for j in range(parameters):\n",
    "            # your code here  (appro ~ 2 lines)\n",
    "            delta = np.dot(X[:,j].T, X.dot(theta.T)-y)\n",
    "            temp[0,j] = theta[0,j] - alpha * delta / m\n",
    "        # your code here  (appro ~ 2 lines)    \n",
    "        theta = temp\n",
    "        temp = np.matrix(np.zeros(theta.shape))\n",
    "        \n",
    "        \n",
    "    return theta, cost"
   ]
  },
  {
   "cell_type": "markdown",
   "metadata": {},
   "source": [
    "初始化一些附加变量 - 学习速率α和要执行的迭代次数。"
   ]
  },
  {
   "cell_type": "code",
   "execution_count": 162,
   "metadata": {},
   "outputs": [],
   "source": [
    "alpha = 0.01\n",
    "iters = 1000"
   ]
  },
  {
   "cell_type": "markdown",
   "metadata": {},
   "source": [
    "现在让我们运行梯度下降算法来将我们的参数θ适合于训练集。"
   ]
  },
  {
   "cell_type": "code",
   "execution_count": 184,
   "metadata": {},
   "outputs": [
    {
     "data": {
      "text/plain": [
       "array([32.07273388,  6.73719046,  5.93159357,  5.90115471,  5.89522859,\n",
       "        5.89009494,  5.88500416,  5.87993248,  5.87487909,  5.86984391,\n",
       "        5.86482687,  5.85982789,  5.85484692,  5.84988389,  5.84493874,\n",
       "        5.8400114 ,  5.83510181,  5.8302099 ,  5.82533562,  5.82047889,\n",
       "        5.81563965,  5.81081784,  5.8060134 ,  5.80122627,  5.79645638,\n",
       "        5.79170367,  5.78696808,  5.78224955,  5.77754801,  5.77286341,\n",
       "        5.76819568,  5.76354477,  5.75891061,  5.75429313,  5.7496923 ,\n",
       "        5.74510803,  5.74054027,  5.73598897,  5.73145406,  5.72693549,\n",
       "        5.72243319,  5.71794711,  5.71347718,  5.70902336,  5.70458558,\n",
       "        5.70016379,  5.69575792,  5.69136792,  5.68699373,  5.6826353 ,\n",
       "        5.67829257,  5.67396548,  5.66965398,  5.665358  ,  5.6610775 ,\n",
       "        5.65681242,  5.6525627 ,  5.64832829,  5.64410913,  5.63990517,\n",
       "        5.63571635,  5.63154261,  5.62738391,  5.6232402 ,  5.6191114 ,\n",
       "        5.61499748,  5.61089837,  5.60681403,  5.60274441,  5.59868944,\n",
       "        5.59464907,  5.59062326,  5.58661195,  5.58261509,  5.57863263,\n",
       "        5.57466451,  5.57071068,  5.56677109,  5.5628457 ,  5.55893444,\n",
       "        5.55503727,  5.55115414,  5.547285  ,  5.54342979,  5.53958847,\n",
       "        5.53576098,  5.53194728,  5.52814732,  5.52436105,  5.52058841,\n",
       "        5.51682936,  5.51308385,  5.50935183,  5.50563326,  5.50192808,\n",
       "        5.49823624,  5.49455771,  5.49089242,  5.48724033,  5.4836014 ,\n",
       "        5.47997558,  5.47636282,  5.47276307,  5.46917628,  5.46560242,\n",
       "        5.46204143,  5.45849326,  5.45495788,  5.45143522,  5.44792526,\n",
       "        5.44442794,  5.44094322,  5.43747105,  5.43401138,  5.43056418,\n",
       "        5.42712939,  5.42370698,  5.42029689,  5.41689909,  5.41351352,\n",
       "        5.41014015,  5.40677893,  5.40342982,  5.40009277,  5.39676774,\n",
       "        5.39345469,  5.39015357,  5.38686434,  5.38358696,  5.38032138,\n",
       "        5.37706756,  5.37382547,  5.37059505,  5.36737627,  5.36416908,\n",
       "        5.36097345,  5.35778933,  5.35461667,  5.35145544,  5.3483056 ,\n",
       "        5.34516711,  5.34203991,  5.33892399,  5.33581928,  5.33272576,\n",
       "        5.32964339,  5.32657211,  5.3235119 ,  5.32046271,  5.3174245 ,\n",
       "        5.31439724,  5.31138088,  5.30837538,  5.30538071,  5.30239683,\n",
       "        5.2994237 ,  5.29646127,  5.29350951,  5.29056839,  5.28763786,\n",
       "        5.28471789,  5.28180843,  5.27890945,  5.27602092,  5.27314279,\n",
       "        5.27027503,  5.26741759,  5.26457045,  5.26173356,  5.2589069 ,\n",
       "        5.25609041,  5.25328407,  5.25048783,  5.24770167,  5.24492555,\n",
       "        5.24215942,  5.23940326,  5.23665702,  5.23392068,  5.23119419,\n",
       "        5.22847752,  5.22577064,  5.22307351,  5.22038609,  5.21770835,\n",
       "        5.21504026,  5.21238178,  5.20973288,  5.20709351,  5.20446365,\n",
       "        5.20184327,  5.19923232,  5.19663078,  5.19403861,  5.19145577,\n",
       "        5.18888224,  5.18631798,  5.18376295,  5.18121713,  5.17868048,\n",
       "        5.17615296,  5.17363455,  5.17112521,  5.16862491,  5.16613361,\n",
       "        5.16365129,  5.16117791,  5.15871344,  5.15625784,  5.15381109,\n",
       "        5.15137315,  5.148944  ,  5.14652359,  5.1441119 ,  5.1417089 ,\n",
       "        5.13931455,  5.13692883,  5.1345517 ,  5.13218314,  5.1298231 ,\n",
       "        5.12747157,  5.1251285 ,  5.12279388,  5.12046766,  5.11814983,\n",
       "        5.11584034,  5.11353917,  5.11124629,  5.10896167,  5.10668527,\n",
       "        5.10441708,  5.10215706,  5.09990518,  5.0976614 ,  5.09542571,\n",
       "        5.09319808,  5.09097846,  5.08876685,  5.08656319,  5.08436748,\n",
       "        5.08217967,  5.07999975,  5.07782768,  5.07566343,  5.07350697,\n",
       "        5.07135828,  5.06921734,  5.0670841 ,  5.06495855,  5.06284065,\n",
       "        5.06073039,  5.05862772,  5.05653263,  5.05444508,  5.05236505,\n",
       "        5.05029252,  5.04822745,  5.04616982,  5.0441196 ,  5.04207676,\n",
       "        5.04004129,  5.03801314,  5.0359923 ,  5.03397874,  5.03197243,\n",
       "        5.02997335,  5.02798147,  5.02599676,  5.0240192 ,  5.02204877,\n",
       "        5.02008543,  5.01812917,  5.01617995,  5.01423775,  5.01230255,\n",
       "        5.01037431,  5.00845303,  5.00653866,  5.00463119,  5.00273059,\n",
       "        5.00083684,  4.9989499 ,  4.99706977,  4.9951964 ,  4.99332979,\n",
       "        4.99146989,  4.9896167 ,  4.98777018,  4.98593031,  4.98409707,\n",
       "        4.98227043,  4.98045038,  4.97863687,  4.9768299 ,  4.97502944,\n",
       "        4.97323547,  4.97144795,  4.96966687,  4.96789221,  4.96612395,\n",
       "        4.96436205,  4.96260649,  4.96085726,  4.95911433,  4.95737768,\n",
       "        4.95564729,  4.95392312,  4.95220517,  4.95049341,  4.94878781,\n",
       "        4.94708835,  4.94539502,  4.94370778,  4.94202663,  4.94035152,\n",
       "        4.93868246,  4.9370194 ,  4.93536233,  4.93371123,  4.93206608,\n",
       "        4.93042686,  4.92879354,  4.9271661 ,  4.92554453,  4.92392879,\n",
       "        4.92231888,  4.92071476,  4.91911642,  4.91752384,  4.915937  ,\n",
       "        4.91435587,  4.91278043,  4.91121067,  4.90964657,  4.9080881 ,\n",
       "        4.90653524,  4.90498798,  4.90344629,  4.90191015,  4.90037954,\n",
       "        4.89885445,  4.89733485,  4.89582073,  4.89431206,  4.89280882,\n",
       "        4.891311  ,  4.88981857,  4.88833152,  4.88684982,  4.88537346,\n",
       "        4.88390242,  4.88243668,  4.88097622,  4.87952102,  4.87807106,\n",
       "        4.87662632,  4.87518678,  4.87375243,  4.87232325,  4.87089922,\n",
       "        4.86948031,  4.86806652,  4.86665782,  4.86525419,  4.86385562,\n",
       "        4.86246208,  4.86107357,  4.85969005,  4.85831152,  4.85693796,\n",
       "        4.85556934,  4.85420565,  4.85284687,  4.85149299,  4.85014399,\n",
       "        4.84879984,  4.84746054,  4.84612606,  4.84479638,  4.8434715 ,\n",
       "        4.84215138,  4.84083603,  4.83952541,  4.83821951,  4.83691831,\n",
       "        4.83562181,  4.83432997,  4.83304278,  4.83176023,  4.83048231,\n",
       "        4.82920898,  4.82794024,  4.82667607,  4.82541645,  4.82416138,\n",
       "        4.82291082,  4.82166476,  4.8204232 ,  4.8191861 ,  4.81795347,\n",
       "        4.81672527,  4.81550149,  4.81428213,  4.81306715,  4.81185656,\n",
       "        4.81065032,  4.80944843,  4.80825086,  4.80705761,  4.80586866,\n",
       "        4.80468399,  4.80350359,  4.80232744,  4.80115553,  4.79998784,\n",
       "        4.79882435,  4.79766505,  4.79650993,  4.79535897,  4.79421216,\n",
       "        4.79306948,  4.79193091,  4.79079644,  4.78966606,  4.78853976,\n",
       "        4.7874175 ,  4.7862993 ,  4.78518511,  4.78407495,  4.78296878,\n",
       "        4.78186659,  4.78076838,  4.77967412,  4.7785838 ,  4.77749741,\n",
       "        4.77641493,  4.77533635,  4.77426166,  4.77319084,  4.77212387,\n",
       "        4.77106075,  4.77000146,  4.76894598,  4.7678943 ,  4.76684642,\n",
       "        4.7658023 ,  4.76476195,  4.76372535,  4.76269247,  4.76166332,\n",
       "        4.76063788,  4.75961613,  4.75859806,  4.75758366,  4.75657291,\n",
       "        4.7555658 ,  4.75456232,  4.75356245,  4.75256619,  4.75157351,\n",
       "        4.75058441,  4.74959887,  4.74861688,  4.74763843,  4.7466635 ,\n",
       "        4.74569209,  4.74472417,  4.74375974,  4.74279878,  4.74184129,\n",
       "        4.74088724,  4.73993663,  4.73898945,  4.73804567,  4.7371053 ,\n",
       "        4.73616831,  4.7352347 ,  4.73430445,  4.73337755,  4.73245399,\n",
       "        4.73153376,  4.73061684,  4.72970322,  4.7287929 ,  4.72788585,\n",
       "        4.72698207,  4.72608155,  4.72518427,  4.72429022,  4.72339939,\n",
       "        4.72251177,  4.72162735,  4.72074611,  4.71986805,  4.71899315,\n",
       "        4.7181214 ,  4.71725279,  4.71638731,  4.71552495,  4.71466569,\n",
       "        4.71380953,  4.71295645,  4.71210645,  4.71125951,  4.71041561,\n",
       "        4.70957476,  4.70873694,  4.70790213,  4.70707033,  4.70624153,\n",
       "        4.70541571,  4.70459287,  4.70377299,  4.70295606,  4.70214208,\n",
       "        4.70133103,  4.7005229 ,  4.69971768,  4.69891536,  4.69811593,\n",
       "        4.69731938,  4.6965257 ,  4.69573487,  4.6949469 ,  4.69416177,\n",
       "        4.69337946,  4.69259997,  4.69182329,  4.6910494 ,  4.69027831,\n",
       "        4.68950999,  4.68874444,  4.68798164,  4.68722159,  4.68646428,\n",
       "        4.6857097 ,  4.68495784,  4.68420868,  4.68346223,  4.68271846,\n",
       "        4.68197737,  4.68123895,  4.68050319,  4.67977008,  4.67903961,\n",
       "        4.67831177,  4.67758656,  4.67686395,  4.67614395,  4.67542654,\n",
       "        4.67471172,  4.67399947,  4.67328979,  4.67258266,  4.67187808,\n",
       "        4.67117604,  4.67047652,  4.66977953,  4.66908504,  4.66839306,\n",
       "        4.66770357,  4.66701656,  4.66633203,  4.66564997,  4.66497036,\n",
       "        4.6642932 ,  4.66361847,  4.66294618,  4.66227631,  4.66160885,\n",
       "        4.6609438 ,  4.66028114,  4.65962087,  4.65896298,  4.65830745,\n",
       "        4.65765429,  4.65700348,  4.65635502,  4.65570889,  4.65506509,\n",
       "        4.6544236 ,  4.65378443,  4.65314756,  4.65251298,  4.65188069,\n",
       "        4.65125068,  4.65062293,  4.64999745,  4.64937422,  4.64875324,\n",
       "        4.64813449,  4.64751797,  4.64690367,  4.64629158,  4.6456817 ,\n",
       "        4.64507402,  4.64446852,  4.64386521,  4.64326406,  4.64266509,\n",
       "        4.64206827,  4.6414736 ,  4.64088107,  4.64029068,  4.63970241,\n",
       "        4.63911626,  4.63853223,  4.63795029,  4.63737046,  4.63679271,\n",
       "        4.63621704,  4.63564345,  4.63507192,  4.63450245,  4.63393503,\n",
       "        4.63336966,  4.63280632,  4.63224501,  4.63168573,  4.63112845,\n",
       "        4.63057319,  4.63001992,  4.62946865,  4.62891937,  4.62837206,\n",
       "        4.62782672,  4.62728335,  4.62674193,  4.62620247,  4.62566495,\n",
       "        4.62512936,  4.62459571,  4.62406397,  4.62353415,  4.62300624,\n",
       "        4.62248023,  4.62195612,  4.62143389,  4.62091355,  4.62039507,\n",
       "        4.61987847,  4.61936373,  4.61885084,  4.6183398 ,  4.6178306 ,\n",
       "        4.61732323,  4.61681769,  4.61631397,  4.61581207,  4.61531197,\n",
       "        4.61481368,  4.61431718,  4.61382246,  4.61332954,  4.61283838,\n",
       "        4.612349  ,  4.61186137,  4.61137551,  4.61089139,  4.61040902,\n",
       "        4.60992838,  4.60944948,  4.6089723 ,  4.60849684,  4.6080231 ,\n",
       "        4.60755106,  4.60708071,  4.60661207,  4.60614511,  4.60567983,\n",
       "        4.60521623,  4.6047543 ,  4.60429404,  4.60383543,  4.60337847,\n",
       "        4.60292316,  4.60246949,  4.60201745,  4.60156704,  4.60111826,\n",
       "        4.60067109,  4.60022553,  4.59978157,  4.59933922,  4.59889846,\n",
       "        4.59845928,  4.59802169,  4.59758567,  4.59715123,  4.59671835,\n",
       "        4.59628702,  4.59585726,  4.59542904,  4.59500236,  4.59457722,\n",
       "        4.59415361,  4.59373152,  4.59331096,  4.59289191,  4.59247437,\n",
       "        4.59205834,  4.5916438 ,  4.59123076,  4.5908192 ,  4.59040913,\n",
       "        4.59000053,  4.58959341,  4.58918775,  4.58878355,  4.58838081,\n",
       "        4.58797952,  4.58757968,  4.58718127,  4.5867843 ,  4.58638876,\n",
       "        4.58599465,  4.58560195,  4.58521067,  4.5848208 ,  4.58443233,\n",
       "        4.58404526,  4.58365959,  4.58327531,  4.5828924 ,  4.58251088,\n",
       "        4.58213074,  4.58175196,  4.58137454,  4.58099849,  4.58062379,\n",
       "        4.58025044,  4.57987844,  4.57950777,  4.57913844,  4.57877044,\n",
       "        4.57840377,  4.57803841,  4.57767437,  4.57731165,  4.57695023,\n",
       "        4.57659011,  4.57623129,  4.57587376,  4.57551752,  4.57516256,\n",
       "        4.57480888,  4.57445648,  4.57410534,  4.57375547,  4.57340686,\n",
       "        4.57305951,  4.5727134 ,  4.57236854,  4.57202493,  4.57168255,\n",
       "        4.57134141,  4.57100149,  4.5706628 ,  4.57032533,  4.56998908,\n",
       "        4.56965403,  4.56932019,  4.56898756,  4.56865612,  4.56832588,\n",
       "        4.56799682,  4.56766896,  4.56734227,  4.56701676,  4.56669242,\n",
       "        4.56636925,  4.56604724,  4.5657264 ,  4.56540671,  4.56508817,\n",
       "        4.56477078,  4.56445453,  4.56413942,  4.56382544,  4.5635126 ,\n",
       "        4.56320088,  4.56289029,  4.56258082,  4.56227246,  4.56196521,\n",
       "        4.56165906,  4.56135402,  4.56105008,  4.56074723,  4.56044548,\n",
       "        4.56014481,  4.55984522,  4.55954672,  4.55924929,  4.55895293,\n",
       "        4.55865763,  4.5583634 ,  4.55807023,  4.55777812,  4.55748706,\n",
       "        4.55719705,  4.55690808,  4.55662015,  4.55633326,  4.5560474 ,\n",
       "        4.55576258,  4.55547878,  4.555196  ,  4.55491424,  4.55463349,\n",
       "        4.55435376,  4.55407503,  4.55379731,  4.55352058,  4.55324486,\n",
       "        4.55297012,  4.55269638,  4.55242362,  4.55215185,  4.55188105,\n",
       "        4.55161123,  4.55134239,  4.55107451,  4.55080759,  4.55054164,\n",
       "        4.55027664,  4.5500126 ,  4.54974951,  4.54948737,  4.54922617,\n",
       "        4.54896591,  4.54870659,  4.5484482 ,  4.54819075,  4.54793422,\n",
       "        4.54767862,  4.54742393,  4.54717017,  4.54691731,  4.54666537,\n",
       "        4.54641434,  4.54616421,  4.54591498,  4.54566665,  4.54541921,\n",
       "        4.54517267,  4.54492701,  4.54468224,  4.54443835,  4.54419534,\n",
       "        4.5439532 ,  4.54371194,  4.54347154,  4.54323201,  4.54299334,\n",
       "        4.54275554,  4.54251859,  4.54228249,  4.54204724,  4.54181284,\n",
       "        4.54157929,  4.54134657,  4.5411147 ,  4.54088366,  4.54065345,\n",
       "        4.54042407,  4.54019552,  4.53996779,  4.53974088,  4.53951478,\n",
       "        4.53928951,  4.53906504,  4.53884138,  4.53861853,  4.53839648,\n",
       "        4.53817523,  4.53795478,  4.53773512,  4.53751625,  4.53729817,\n",
       "        4.53708088,  4.53686437,  4.53664864,  4.53643368,  4.5362195 ,\n",
       "        4.5360061 ,  4.53579346,  4.53558158,  4.53537047,  4.53516012,\n",
       "        4.53495053,  4.53474169,  4.53453361,  4.53432627,  4.53411968,\n",
       "        4.53391384,  4.53370873,  4.53350437,  4.53330074,  4.53309784,\n",
       "        4.53289568,  4.53269424,  4.53249353,  4.53229355,  4.53209428,\n",
       "        4.53189573,  4.53169789,  4.53150077,  4.53130436,  4.53110866,\n",
       "        4.53091366,  4.53071936,  4.53052576,  4.53033286,  4.53014066,\n",
       "        4.52994915,  4.52975832,  4.52956819,  4.52937874,  4.52918997,\n",
       "        4.52900188,  4.52881447,  4.52862773,  4.52844167,  4.52825628,\n",
       "        4.52807155,  4.52788749,  4.52770409,  4.52752136,  4.52733928,\n",
       "        4.52715786,  4.52697709,  4.52679697,  4.5266175 ,  4.52643868,\n",
       "        4.5262605 ,  4.52608297,  4.52590607,  4.52572981,  4.52555418,\n",
       "        4.52537919,  4.52520483,  4.52503109,  4.52485799,  4.5246855 ,\n",
       "        4.52451364,  4.52434239,  4.52417177,  4.52400175,  4.52383235,\n",
       "        4.52366356,  4.52349538,  4.5233278 ,  4.52316083,  4.52299446,\n",
       "        4.52282868,  4.52266351,  4.52249893,  4.52233494,  4.52217154,\n",
       "        4.52200874,  4.52184651,  4.52168488,  4.52152382,  4.52136335,\n",
       "        4.52120345,  4.52104413,  4.52088538,  4.5207272 ,  4.5205696 ,\n",
       "        4.52041256,  4.52025609,  4.52010018,  4.51994483,  4.51979004,\n",
       "        4.51963581,  4.51948214,  4.51932902,  4.51917645,  4.51902443,\n",
       "        4.51887295,  4.51872203,  4.51857164,  4.5184218 ,  4.5182725 ,\n",
       "        4.51812373,  4.51797551,  4.51782781,  4.51768065,  4.51753402,\n",
       "        4.51738791,  4.51724233,  4.51709728,  4.51695275,  4.51680874,\n",
       "        4.51666525,  4.51652227,  4.51637981,  4.51623786,  4.51609643])"
      ]
     },
     "execution_count": 184,
     "metadata": {},
     "output_type": "execute_result"
    }
   ],
   "source": [
    "g, cost = gradientDescent(X, y, theta, alpha, iters)\n",
    "g\n",
    "cost"
   ]
  },
  {
   "cell_type": "markdown",
   "metadata": {},
   "source": [
    "最后，我们可以使用我们拟合的参数计算训练模型的代价函数（误差）。"
   ]
  },
  {
   "cell_type": "code",
   "execution_count": 185,
   "metadata": {},
   "outputs": [
    {
     "data": {
      "text/plain": [
       "matrix([[4.5159555]])"
      ]
     },
     "execution_count": 185,
     "metadata": {},
     "output_type": "execute_result"
    }
   ],
   "source": [
    "computeCost(X, y, g)"
   ]
  },
  {
   "cell_type": "markdown",
   "metadata": {},
   "source": [
    "现在我们来绘制线性模型以及数据，直观地看出它的拟合。"
   ]
  },
  {
   "cell_type": "code",
   "execution_count": 198,
   "metadata": {},
   "outputs": [
    {
     "data": {
      "image/png": "[encoded data removed]",
      "text/plain": [
       "<matplotlib.figure.Figure at 0x2e007ce0b70>"
      ]
     },
     "metadata": {},
     "output_type": "display_data"
    },
    {
     "data": {
      "text/plain": [
       "matrix([[-3.24140214,  1.1272942 ]])"
      ]
     },
     "execution_count": 198,
     "metadata": {},
     "output_type": "execute_result"
    }
   ],
   "source": [
    "x = np.linspace(data.Population.min(), data.Population.max(), 100)\n",
    "f = g[0, 0] + (g[0, 1] * x)\n",
    "\n",
    "fig, ax = plt.subplots(figsize=(12,8))\n",
    "ax.plot(x, f, 'r', label='Prediction')\n",
    "ax.scatter(data.Population, data.Profit, label='Traning Data')\n",
    "ax.legend(loc=2)\n",
    "ax.set_xlabel('Population')\n",
    "ax.set_ylabel('Profit')\n",
    "ax.set_title('Predicted Profit vs. Population Size')\n",
    "plt.show()\n",
    "g"
   ]
  },
  {
   "cell_type": "markdown",
   "metadata": {},
   "source": [
    "由于梯度方程式函数也在每个训练迭代中输出一个代价的向量，所以我们也可以绘制。 请注意，代价总是降低 - 这是凸优化问题的一个例子。"
   ]
  },
  {
   "cell_type": "code",
   "execution_count": 306,
   "metadata": {},
   "outputs": [
    {
     "data": {
      "image/png": "[encoded data removed]",
      "text/plain": [
       "<matplotlib.figure.Figure at 0x2e00ce96390>"
      ]
     },
     "metadata": {},
     "output_type": "display_data"
    }
   ],
   "source": [
    "fig, ax = plt.subplots(figsize=(12,8))\n",
    "ax.plot(np.arange(iters), cost, 'r')\n",
    "ax.set_xlabel('Iterations')\n",
    "ax.set_ylabel('Cost')\n",
    "ax.set_title('Error vs. Training Epoch')\n",
    "plt.show()"
   ]
  },
  {
   "cell_type": "markdown",
   "metadata": {},
   "source": [
    "## 3.多变量线性回归"
   ]
  },
  {
   "cell_type": "markdown",
   "metadata": {},
   "source": [
    "练习1还包括一个房屋价格数据集，其中有2个变量（房子的大小，卧室的数量）和目标（房子的价格）。 我们使用我们已经应用的技术来分析数据集。"
   ]
  },
  {
   "cell_type": "code",
   "execution_count": 331,
   "metadata": {},
   "outputs": [
    {
     "data": {
      "text/html": [
       "<div>\n",
       "<style scoped>\n",
       "    .dataframe tbody tr th:only-of-type {\n",
       "        vertical-align: middle;\n",
       "    }\n",
       "\n",
       "    .dataframe tbody tr th {\n",
       "        vertical-align: top;\n",
       "    }\n",
       "\n",
       "    .dataframe thead th {\n",
       "        text-align: right;\n",
       "    }\n",
       "</style>\n",
       "<table border=\"1\" class=\"dataframe\">\n",
       "  <thead>\n",
       "    <tr style=\"text-align: right;\">\n",
       "      <th></th>\n",
       "      <th>Size</th>\n",
       "      <th>Bedrooms</th>\n",
       "      <th>Price</th>\n",
       "    </tr>\n",
       "  </thead>\n",
       "  <tbody>\n",
       "    <tr>\n",
       "      <th>0</th>\n",
       "      <td>2104</td>\n",
       "      <td>3</td>\n",
       "      <td>399900</td>\n",
       "    </tr>\n",
       "    <tr>\n",
       "      <th>1</th>\n",
       "      <td>1600</td>\n",
       "      <td>3</td>\n",
       "      <td>329900</td>\n",
       "    </tr>\n",
       "    <tr>\n",
       "      <th>2</th>\n",
       "      <td>2400</td>\n",
       "      <td>3</td>\n",
       "      <td>369000</td>\n",
       "    </tr>\n",
       "    <tr>\n",
       "      <th>3</th>\n",
       "      <td>1416</td>\n",
       "      <td>2</td>\n",
       "      <td>232000</td>\n",
       "    </tr>\n",
       "    <tr>\n",
       "      <th>4</th>\n",
       "      <td>3000</td>\n",
       "      <td>4</td>\n",
       "      <td>539900</td>\n",
       "    </tr>\n",
       "  </tbody>\n",
       "</table>\n",
       "</div>"
      ],
      "text/plain": [
       "   Size  Bedrooms   Price\n",
       "0  2104         3  399900\n",
       "1  1600         3  329900\n",
       "2  2400         3  369000\n",
       "3  1416         2  232000\n",
       "4  3000         4  539900"
      ]
     },
     "execution_count": 331,
     "metadata": {},
     "output_type": "execute_result"
    }
   ],
   "source": [
    "path =  'ex1data2.txt'\n",
    "data2 = pd.read_csv(path, header=None, names=['Size', 'Bedrooms', 'Price'])\n",
    "data2.head()"
   ]
  },
  {
   "cell_type": "markdown",
   "metadata": {},
   "source": [
    "对于此任务，我们添加了另一个预处理步骤 - 特征归一化。 这个对于pandas来说很简单"
   ]
  },
  {
   "cell_type": "code",
   "execution_count": 332,
   "metadata": {},
   "outputs": [
    {
     "data": {
      "text/html": [
       "<div>\n",
       "<style scoped>\n",
       "    .dataframe tbody tr th:only-of-type {\n",
       "        vertical-align: middle;\n",
       "    }\n",
       "\n",
       "    .dataframe tbody tr th {\n",
       "        vertical-align: top;\n",
       "    }\n",
       "\n",
       "    .dataframe thead th {\n",
       "        text-align: right;\n",
       "    }\n",
       "</style>\n",
       "<table border=\"1\" class=\"dataframe\">\n",
       "  <thead>\n",
       "    <tr style=\"text-align: right;\">\n",
       "      <th></th>\n",
       "      <th>Size</th>\n",
       "      <th>Bedrooms</th>\n",
       "      <th>Price</th>\n",
       "    </tr>\n",
       "  </thead>\n",
       "  <tbody>\n",
       "    <tr>\n",
       "      <th>0</th>\n",
       "      <td>0.130010</td>\n",
       "      <td>-0.223675</td>\n",
       "      <td>399900</td>\n",
       "    </tr>\n",
       "    <tr>\n",
       "      <th>1</th>\n",
       "      <td>-0.504190</td>\n",
       "      <td>-0.223675</td>\n",
       "      <td>329900</td>\n",
       "    </tr>\n",
       "    <tr>\n",
       "      <th>2</th>\n",
       "      <td>0.502476</td>\n",
       "      <td>-0.223675</td>\n",
       "      <td>369000</td>\n",
       "    </tr>\n",
       "    <tr>\n",
       "      <th>3</th>\n",
       "      <td>-0.735723</td>\n",
       "      <td>-1.537767</td>\n",
       "      <td>232000</td>\n",
       "    </tr>\n",
       "    <tr>\n",
       "      <th>4</th>\n",
       "      <td>1.257476</td>\n",
       "      <td>1.090417</td>\n",
       "      <td>539900</td>\n",
       "    </tr>\n",
       "  </tbody>\n",
       "</table>\n",
       "</div>"
      ],
      "text/plain": [
       "       Size  Bedrooms   Price\n",
       "0  0.130010 -0.223675  399900\n",
       "1 -0.504190 -0.223675  329900\n",
       "2  0.502476 -0.223675  369000\n",
       "3 -0.735723 -1.537767  232000\n",
       "4  1.257476  1.090417  539900"
      ]
     },
     "execution_count": 332,
     "metadata": {},
     "output_type": "execute_result"
    }
   ],
   "source": [
    "cols = data2.shape[1]\n",
    "data2.iloc[:,0:cols-1] = (data2.iloc[:,0:cols-1] - data2.iloc[:,0:cols-1].mean()) / data2.iloc[:,0:cols-1].std()\n",
    "# data2 = (data2 - data2.mean()) / data2.std()\n",
    "data2.head()"
   ]
  },
  {
   "cell_type": "code",
   "execution_count": 313,
   "metadata": {},
   "outputs": [
    {
     "data": {
      "text/html": [
       "<div>\n",
       "<style scoped>\n",
       "    .dataframe tbody tr th:only-of-type {\n",
       "        vertical-align: middle;\n",
       "    }\n",
       "\n",
       "    .dataframe tbody tr th {\n",
       "        vertical-align: top;\n",
       "    }\n",
       "\n",
       "    .dataframe thead th {\n",
       "        text-align: right;\n",
       "    }\n",
       "</style>\n",
       "<table border=\"1\" class=\"dataframe\">\n",
       "  <thead>\n",
       "    <tr style=\"text-align: right;\">\n",
       "      <th></th>\n",
       "      <th>Ones</th>\n",
       "      <th>Size</th>\n",
       "      <th>Bedrooms</th>\n",
       "      <th>Price</th>\n",
       "    </tr>\n",
       "  </thead>\n",
       "  <tbody>\n",
       "    <tr>\n",
       "      <th>0</th>\n",
       "      <td>NaN</td>\n",
       "      <td>0.130010</td>\n",
       "      <td>-0.223675</td>\n",
       "      <td>0.475747</td>\n",
       "    </tr>\n",
       "    <tr>\n",
       "      <th>1</th>\n",
       "      <td>NaN</td>\n",
       "      <td>-0.504190</td>\n",
       "      <td>-0.223675</td>\n",
       "      <td>-0.084074</td>\n",
       "    </tr>\n",
       "    <tr>\n",
       "      <th>2</th>\n",
       "      <td>NaN</td>\n",
       "      <td>0.502476</td>\n",
       "      <td>-0.223675</td>\n",
       "      <td>0.228626</td>\n",
       "    </tr>\n",
       "    <tr>\n",
       "      <th>3</th>\n",
       "      <td>NaN</td>\n",
       "      <td>-0.735723</td>\n",
       "      <td>-1.537767</td>\n",
       "      <td>-0.867025</td>\n",
       "    </tr>\n",
       "    <tr>\n",
       "      <th>4</th>\n",
       "      <td>NaN</td>\n",
       "      <td>1.257476</td>\n",
       "      <td>1.090417</td>\n",
       "      <td>1.595389</td>\n",
       "    </tr>\n",
       "    <tr>\n",
       "      <th>5</th>\n",
       "      <td>NaN</td>\n",
       "      <td>-0.019732</td>\n",
       "      <td>1.090417</td>\n",
       "      <td>-0.323998</td>\n",
       "    </tr>\n",
       "    <tr>\n",
       "      <th>6</th>\n",
       "      <td>NaN</td>\n",
       "      <td>-0.587240</td>\n",
       "      <td>-0.223675</td>\n",
       "      <td>-0.204036</td>\n",
       "    </tr>\n",
       "    <tr>\n",
       "      <th>7</th>\n",
       "      <td>NaN</td>\n",
       "      <td>-0.721881</td>\n",
       "      <td>-0.223675</td>\n",
       "      <td>-1.130948</td>\n",
       "    </tr>\n",
       "    <tr>\n",
       "      <th>8</th>\n",
       "      <td>NaN</td>\n",
       "      <td>-0.781023</td>\n",
       "      <td>-0.223675</td>\n",
       "      <td>-1.026973</td>\n",
       "    </tr>\n",
       "    <tr>\n",
       "      <th>9</th>\n",
       "      <td>NaN</td>\n",
       "      <td>-0.637573</td>\n",
       "      <td>-0.223675</td>\n",
       "      <td>-0.783051</td>\n",
       "    </tr>\n",
       "    <tr>\n",
       "      <th>10</th>\n",
       "      <td>NaN</td>\n",
       "      <td>-0.076357</td>\n",
       "      <td>1.090417</td>\n",
       "      <td>-0.803053</td>\n",
       "    </tr>\n",
       "    <tr>\n",
       "      <th>11</th>\n",
       "      <td>NaN</td>\n",
       "      <td>-0.000857</td>\n",
       "      <td>-0.223675</td>\n",
       "      <td>0.052682</td>\n",
       "    </tr>\n",
       "    <tr>\n",
       "      <th>12</th>\n",
       "      <td>NaN</td>\n",
       "      <td>-0.139273</td>\n",
       "      <td>-0.223675</td>\n",
       "      <td>-0.083283</td>\n",
       "    </tr>\n",
       "    <tr>\n",
       "      <th>13</th>\n",
       "      <td>NaN</td>\n",
       "      <td>3.117292</td>\n",
       "      <td>2.404508</td>\n",
       "      <td>2.874981</td>\n",
       "    </tr>\n",
       "    <tr>\n",
       "      <th>14</th>\n",
       "      <td>NaN</td>\n",
       "      <td>-0.921956</td>\n",
       "      <td>-0.223675</td>\n",
       "      <td>-0.643896</td>\n",
       "    </tr>\n",
       "    <tr>\n",
       "      <th>15</th>\n",
       "      <td>NaN</td>\n",
       "      <td>0.376643</td>\n",
       "      <td>1.090417</td>\n",
       "      <td>0.875619</td>\n",
       "    </tr>\n",
       "    <tr>\n",
       "      <th>16</th>\n",
       "      <td>NaN</td>\n",
       "      <td>-0.856523</td>\n",
       "      <td>-1.537767</td>\n",
       "      <td>-0.323998</td>\n",
       "    </tr>\n",
       "    <tr>\n",
       "      <th>17</th>\n",
       "      <td>NaN</td>\n",
       "      <td>-0.962223</td>\n",
       "      <td>-0.223675</td>\n",
       "      <td>-1.123743</td>\n",
       "    </tr>\n",
       "    <tr>\n",
       "      <th>18</th>\n",
       "      <td>NaN</td>\n",
       "      <td>0.765468</td>\n",
       "      <td>1.090417</td>\n",
       "      <td>1.276275</td>\n",
       "    </tr>\n",
       "    <tr>\n",
       "      <th>19</th>\n",
       "      <td>NaN</td>\n",
       "      <td>1.296484</td>\n",
       "      <td>1.090417</td>\n",
       "      <td>2.068039</td>\n",
       "    </tr>\n",
       "    <tr>\n",
       "      <th>20</th>\n",
       "      <td>NaN</td>\n",
       "      <td>-0.294048</td>\n",
       "      <td>-0.223675</td>\n",
       "      <td>-0.699878</td>\n",
       "    </tr>\n",
       "    <tr>\n",
       "      <th>21</th>\n",
       "      <td>NaN</td>\n",
       "      <td>-0.141790</td>\n",
       "      <td>-1.537767</td>\n",
       "      <td>-0.683083</td>\n",
       "    </tr>\n",
       "    <tr>\n",
       "      <th>22</th>\n",
       "      <td>NaN</td>\n",
       "      <td>-0.499157</td>\n",
       "      <td>-0.223675</td>\n",
       "      <td>-0.779852</td>\n",
       "    </tr>\n",
       "    <tr>\n",
       "      <th>23</th>\n",
       "      <td>NaN</td>\n",
       "      <td>-0.048673</td>\n",
       "      <td>1.090417</td>\n",
       "      <td>-0.643896</td>\n",
       "    </tr>\n",
       "    <tr>\n",
       "      <th>24</th>\n",
       "      <td>NaN</td>\n",
       "      <td>2.377392</td>\n",
       "      <td>-0.223675</td>\n",
       "      <td>1.867303</td>\n",
       "    </tr>\n",
       "    <tr>\n",
       "      <th>25</th>\n",
       "      <td>NaN</td>\n",
       "      <td>-1.133356</td>\n",
       "      <td>-0.223675</td>\n",
       "      <td>-0.723870</td>\n",
       "    </tr>\n",
       "    <tr>\n",
       "      <th>26</th>\n",
       "      <td>NaN</td>\n",
       "      <td>-0.682873</td>\n",
       "      <td>-0.223675</td>\n",
       "      <td>0.992382</td>\n",
       "    </tr>\n",
       "    <tr>\n",
       "      <th>27</th>\n",
       "      <td>NaN</td>\n",
       "      <td>0.661026</td>\n",
       "      <td>-0.223675</td>\n",
       "      <td>1.028370</td>\n",
       "    </tr>\n",
       "    <tr>\n",
       "      <th>28</th>\n",
       "      <td>NaN</td>\n",
       "      <td>0.250810</td>\n",
       "      <td>-0.223675</td>\n",
       "      <td>1.076355</td>\n",
       "    </tr>\n",
       "    <tr>\n",
       "      <th>29</th>\n",
       "      <td>NaN</td>\n",
       "      <td>0.800701</td>\n",
       "      <td>-0.223675</td>\n",
       "      <td>-0.323998</td>\n",
       "    </tr>\n",
       "    <tr>\n",
       "      <th>30</th>\n",
       "      <td>NaN</td>\n",
       "      <td>-0.203448</td>\n",
       "      <td>-1.537767</td>\n",
       "      <td>0.075875</td>\n",
       "    </tr>\n",
       "    <tr>\n",
       "      <th>31</th>\n",
       "      <td>NaN</td>\n",
       "      <td>-1.259189</td>\n",
       "      <td>-2.851859</td>\n",
       "      <td>-1.363666</td>\n",
       "    </tr>\n",
       "    <tr>\n",
       "      <th>32</th>\n",
       "      <td>NaN</td>\n",
       "      <td>0.049477</td>\n",
       "      <td>1.090417</td>\n",
       "      <td>-0.204036</td>\n",
       "    </tr>\n",
       "    <tr>\n",
       "      <th>33</th>\n",
       "      <td>NaN</td>\n",
       "      <td>1.429868</td>\n",
       "      <td>-0.223675</td>\n",
       "      <td>1.915287</td>\n",
       "    </tr>\n",
       "    <tr>\n",
       "      <th>34</th>\n",
       "      <td>NaN</td>\n",
       "      <td>-0.238682</td>\n",
       "      <td>1.090417</td>\n",
       "      <td>-0.435962</td>\n",
       "    </tr>\n",
       "    <tr>\n",
       "      <th>35</th>\n",
       "      <td>NaN</td>\n",
       "      <td>-0.709298</td>\n",
       "      <td>-0.223675</td>\n",
       "      <td>-0.723870</td>\n",
       "    </tr>\n",
       "    <tr>\n",
       "      <th>36</th>\n",
       "      <td>NaN</td>\n",
       "      <td>-0.958448</td>\n",
       "      <td>-0.223675</td>\n",
       "      <td>-0.883819</td>\n",
       "    </tr>\n",
       "    <tr>\n",
       "      <th>37</th>\n",
       "      <td>NaN</td>\n",
       "      <td>0.165243</td>\n",
       "      <td>1.090417</td>\n",
       "      <td>0.036687</td>\n",
       "    </tr>\n",
       "    <tr>\n",
       "      <th>38</th>\n",
       "      <td>NaN</td>\n",
       "      <td>2.786350</td>\n",
       "      <td>1.090417</td>\n",
       "      <td>1.668166</td>\n",
       "    </tr>\n",
       "    <tr>\n",
       "      <th>39</th>\n",
       "      <td>NaN</td>\n",
       "      <td>0.202993</td>\n",
       "      <td>1.090417</td>\n",
       "      <td>-0.427165</td>\n",
       "    </tr>\n",
       "    <tr>\n",
       "      <th>40</th>\n",
       "      <td>NaN</td>\n",
       "      <td>-0.423657</td>\n",
       "      <td>-1.537767</td>\n",
       "      <td>0.224627</td>\n",
       "    </tr>\n",
       "    <tr>\n",
       "      <th>41</th>\n",
       "      <td>NaN</td>\n",
       "      <td>0.298626</td>\n",
       "      <td>-0.223675</td>\n",
       "      <td>-0.084074</td>\n",
       "    </tr>\n",
       "    <tr>\n",
       "      <th>42</th>\n",
       "      <td>NaN</td>\n",
       "      <td>0.712618</td>\n",
       "      <td>1.090417</td>\n",
       "      <td>-0.211234</td>\n",
       "    </tr>\n",
       "    <tr>\n",
       "      <th>43</th>\n",
       "      <td>NaN</td>\n",
       "      <td>-1.007523</td>\n",
       "      <td>-0.223675</td>\n",
       "      <td>-0.331196</td>\n",
       "    </tr>\n",
       "    <tr>\n",
       "      <th>44</th>\n",
       "      <td>NaN</td>\n",
       "      <td>-1.445423</td>\n",
       "      <td>-1.537767</td>\n",
       "      <td>-1.283692</td>\n",
       "    </tr>\n",
       "    <tr>\n",
       "      <th>45</th>\n",
       "      <td>NaN</td>\n",
       "      <td>-0.187090</td>\n",
       "      <td>1.090417</td>\n",
       "      <td>-0.323998</td>\n",
       "    </tr>\n",
       "    <tr>\n",
       "      <th>46</th>\n",
       "      <td>NaN</td>\n",
       "      <td>-1.003748</td>\n",
       "      <td>-0.223675</td>\n",
       "      <td>-0.807044</td>\n",
       "    </tr>\n",
       "  </tbody>\n",
       "</table>\n",
       "</div>"
      ],
      "text/plain": [
       "    Ones      Size  Bedrooms     Price\n",
       "0    NaN  0.130010 -0.223675  0.475747\n",
       "1    NaN -0.504190 -0.223675 -0.084074\n",
       "2    NaN  0.502476 -0.223675  0.228626\n",
       "3    NaN -0.735723 -1.537767 -0.867025\n",
       "4    NaN  1.257476  1.090417  1.595389\n",
       "5    NaN -0.019732  1.090417 -0.323998\n",
       "6    NaN -0.587240 -0.223675 -0.204036\n",
       "7    NaN -0.721881 -0.223675 -1.130948\n",
       "8    NaN -0.781023 -0.223675 -1.026973\n",
       "9    NaN -0.637573 -0.223675 -0.783051\n",
       "10   NaN -0.076357  1.090417 -0.803053\n",
       "11   NaN -0.000857 -0.223675  0.052682\n",
       "12   NaN -0.139273 -0.223675 -0.083283\n",
       "13   NaN  3.117292  2.404508  2.874981\n",
       "14   NaN -0.921956 -0.223675 -0.643896\n",
       "15   NaN  0.376643  1.090417  0.875619\n",
       "16   NaN -0.856523 -1.537767 -0.323998\n",
       "17   NaN -0.962223 -0.223675 -1.123743\n",
       "18   NaN  0.765468  1.090417  1.276275\n",
       "19   NaN  1.296484  1.090417  2.068039\n",
       "20   NaN -0.294048 -0.223675 -0.699878\n",
       "21   NaN -0.141790 -1.537767 -0.683083\n",
       "22   NaN -0.499157 -0.223675 -0.779852\n",
       "23   NaN -0.048673  1.090417 -0.643896\n",
       "24   NaN  2.377392 -0.223675  1.867303\n",
       "25   NaN -1.133356 -0.223675 -0.723870\n",
       "26   NaN -0.682873 -0.223675  0.992382\n",
       "27   NaN  0.661026 -0.223675  1.028370\n",
       "28   NaN  0.250810 -0.223675  1.076355\n",
       "29   NaN  0.800701 -0.223675 -0.323998\n",
       "30   NaN -0.203448 -1.537767  0.075875\n",
       "31   NaN -1.259189 -2.851859 -1.363666\n",
       "32   NaN  0.049477  1.090417 -0.204036\n",
       "33   NaN  1.429868 -0.223675  1.915287\n",
       "34   NaN -0.238682  1.090417 -0.435962\n",
       "35   NaN -0.709298 -0.223675 -0.723870\n",
       "36   NaN -0.958448 -0.223675 -0.883819\n",
       "37   NaN  0.165243  1.090417  0.036687\n",
       "38   NaN  2.786350  1.090417  1.668166\n",
       "39   NaN  0.202993  1.090417 -0.427165\n",
       "40   NaN -0.423657 -1.537767  0.224627\n",
       "41   NaN  0.298626 -0.223675 -0.084074\n",
       "42   NaN  0.712618  1.090417 -0.211234\n",
       "43   NaN -1.007523 -0.223675 -0.331196\n",
       "44   NaN -1.445423 -1.537767 -1.283692\n",
       "45   NaN -0.187090  1.090417 -0.323998\n",
       "46   NaN -1.003748 -0.223675 -0.807044"
      ]
     },
     "execution_count": 313,
     "metadata": {},
     "output_type": "execute_result"
    }
   ],
   "source": [
    "from sklearn.linear_model import LinearRegression\n",
    "data2"
   ]
  },
  {
   "cell_type": "markdown",
   "metadata": {},
   "source": [
    "现在我们重复第1部分的预处理步骤，并对新数据集运行线性回归程序。"
   ]
  },
  {
   "cell_type": "code",
   "execution_count": 309,
   "metadata": {},
   "outputs": [
    {
     "data": {
      "text/plain": [
       "matrix([[2.04354422e+09]])"
      ]
     },
     "execution_count": 309,
     "metadata": {},
     "output_type": "execute_result"
    }
   ],
   "source": [
    "# add ones column\n",
    "data2.insert(0, 'Ones', 1)\n",
    "\n",
    "# set X (training data) and y (target variable)\n",
    "cols = data2.shape[1]\n",
    "X2 = data2.iloc[:,0:cols-1]\n",
    "y2 = data2.iloc[:,cols-1:cols]\n",
    "\n",
    "# convert to matrices and initialize theta\n",
    "X2 = np.matrix(X2.values)\n",
    "y2 = np.matrix(y2.values)\n",
    "theta2 = np.matrix(np.array([0,0,0]))\n",
    "\n",
    "# perform linear regression on the data set\n",
    "g2, cost2 = gradientDescent(X2, y2, theta2, alpha, iters)\n",
    "\n",
    "# get the cost (error) of the model\n",
    "computeCost(X2, y2, g2)"
   ]
  },
  {
   "cell_type": "markdown",
   "metadata": {},
   "source": [
    "我们也可以快速查看这一个的训练进程。"
   ]
  },
  {
   "cell_type": "code",
   "execution_count": 310,
   "metadata": {
    "scrolled": true
   },
   "outputs": [
    {
     "data": {
      "image/png": "[encoded data removed]",
      "text/plain": [
       "<matplotlib.figure.Figure at 0x2e00d3ef630>"
      ]
     },
     "metadata": {},
     "output_type": "display_data"
    }
   ],
   "source": [
    "fig, ax = plt.subplots(figsize=(12,8))\n",
    "ax.plot(np.arange(iters), cost2, 'r')\n",
    "ax.set_xlabel('Iterations')\n",
    "ax.set_ylabel('Cost')\n",
    "ax.set_title('Error vs. Training Epoch')\n",
    "plt.show()"
   ]
  },
  {
   "cell_type": "markdown",
   "metadata": {},
   "source": [
    "# 4. normal equation（正规方程）(选做)\n",
    "正规方程是通过求解下面的方程来找出使得代价函数最小的参数的：$\\frac{\\partial }{\\partial {{\\theta }_{j}}}J\\left( {{\\theta }_{j}} \\right)=0$ 。\n",
    " 假设我们的训练集特征矩阵为 X（包含了${{x}_{0}}=1$）并且我们的训练集结果为向量 y，则利用正规方程解出向量 $\\theta ={{\\left( {{X}^{T}}X \\right)}^{-1}}{{X}^{T}}y$ 。\n",
    "上标T代表矩阵转置，上标-1 代表矩阵的逆。设矩阵$A={{X}^{T}}X$，则：${{\\left( {{X}^{T}}X \\right)}^{-1}}={{A}^{-1}}$\n",
    "\n",
    "梯度下降与正规方程的比较：\n",
    "\n",
    "梯度下降：需要选择学习率α，需要多次迭代，当特征数量n大时也能较好适用，适用于各种类型的模型\t\n",
    "\n",
    "正规方程：不需要选择学习率α，一次计算得出，需要计算${{\\left( {{X}^{T}}X \\right)}^{-1}}$，如果特征数量n较大则运算代价大，因为矩阵逆的计算时间复杂度为$O(n3)$，通常来说当$n$小于10000 时还是可以接受的，只适用于线性模型，不适合逻辑回归模型等其他模型"
   ]
  },
  {
   "cell_type": "code",
   "execution_count": 195,
   "metadata": {},
   "outputs": [],
   "source": [
    "# 正规方程\n",
    "def normalEqn(X, y):\n",
    "    # your code here  (appro ~ 1 lines)\n",
    "    theta = np.linalg.inv(X.T*X) * X.T * y\n",
    "    return theta"
   ]
  },
  {
   "cell_type": "code",
   "execution_count": 196,
   "metadata": {},
   "outputs": [
    {
     "data": {
      "text/plain": [
       "matrix([[-3.89578088],\n",
       "        [ 1.19303364]])"
      ]
     },
     "execution_count": 196,
     "metadata": {},
     "output_type": "execute_result"
    }
   ],
   "source": [
    "final_theta2=normalEqn(X, y)#感觉和批量梯度下降的theta的值有点差距\n",
    "final_theta2"
   ]
  },
  {
   "cell_type": "code",
   "execution_count": 172,
   "metadata": {},
   "outputs": [],
   "source": [
    "#梯度下降得到的结果是matrix([[-3.24140214,  1.1272942 ]])"
   ]
  },
  {
   "cell_type": "code",
   "execution_count": 200,
   "metadata": {},
   "outputs": [
    {
     "data": {
      "text/plain": [
       "LinearRegression(copy_X=True, fit_intercept=True, n_jobs=1, normalize=False)"
      ]
     },
     "execution_count": 200,
     "metadata": {},
     "output_type": "execute_result"
    }
   ],
   "source": [
    "from sklearn.linear_model import LinearRegression\n",
    "model = LinearRegression()\n",
    "model.fit(X,y)"
   ]
  },
  {
   "cell_type": "code",
   "execution_count": 316,
   "metadata": {},
   "outputs": [
    {
     "name": "stdout",
     "output_type": "stream",
     "text": [
      "<class 'numpy.ndarray'>\n"
     ]
    },
    {
     "data": {
      "image/png": "[encoded data removed]",
      "text/plain": [
       "<matplotlib.figure.Figure at 0x2e007cedc18>"
      ]
     },
     "metadata": {},
     "output_type": "display_data"
    }
   ],
   "source": [
    "x = np.array(X[:, 1].A1)\n",
    "print(type(x))\n",
    "f = model.predict(X).flatten()\n",
    "fig, ax = plt.subplots(figsize=(8,5))\n",
    "ax.plot(x, f, 'r', label='Prediction')\n",
    "ax.scatter(data.Population, data.Profit, label='Traning Data')\n",
    "ax.legend(loc=2)\n",
    "ax.set_xlabel('Population')\n",
    "ax.set_ylabel('Profit')\n",
    "ax.set_title('Predicted Profit vs. Population Size')\n",
    "plt.show()"
   ]
  },
  {
   "cell_type": "code",
   "execution_count": null,
   "metadata": {},
   "outputs": [],
   "source": []
  },
  {
   "cell_type": "code",
   "execution_count": 317,
   "metadata": {},
   "outputs": [
    {
     "name": "stdout",
     "output_type": "stream",
     "text": [
      "[[ 6.1101  5.5277  8.5186  7.0032  5.8598  8.3829  7.4764  8.5781  6.4862\n",
      "   5.0546  5.7107 14.164   5.734   8.4084  5.6407  5.3794  6.3654  5.1301\n",
      "   6.4296  7.0708  6.1891 20.27    5.4901  6.3261  5.5649 18.945  12.828\n",
      "  10.957  13.176  22.203   5.2524  6.5894  9.2482  5.8918  8.2111  7.9334\n",
      "   8.0959  5.6063 12.836   6.3534  5.4069  6.8825 11.708   5.7737  7.8247\n",
      "   7.0931  5.0702  5.8014 11.7     5.5416  7.5402  5.3077  7.4239  7.6031\n",
      "   6.3328  6.3589  6.2742  5.6397  9.3102  9.4536  8.8254  5.1793 21.279\n",
      "  14.908  18.959   7.2182  8.2951 10.236   5.4994 20.341  10.136   7.3345\n",
      "   6.0062  7.2259  5.0269  6.5479  7.5386  5.0365 10.274   5.1077  5.7292\n",
      "   5.1884  6.3557  9.7687  6.5159  8.5172  9.1802  6.002   5.5204  5.0594\n",
      "   5.7077  7.6366  5.8707  5.3054  8.2934 13.394   5.4369]]\n",
      "0      6.1101\n",
      "1      5.5277\n",
      "2      8.5186\n",
      "3      7.0032\n",
      "4      5.8598\n",
      "5      8.3829\n",
      "6      7.4764\n",
      "7      8.5781\n",
      "8      6.4862\n",
      "9      5.0546\n",
      "10     5.7107\n",
      "11    14.1640\n",
      "12     5.7340\n",
      "13     8.4084\n",
      "14     5.6407\n",
      "15     5.3794\n",
      "16     6.3654\n",
      "17     5.1301\n",
      "18     6.4296\n",
      "19     7.0708\n",
      "20     6.1891\n",
      "21    20.2700\n",
      "22     5.4901\n",
      "23     6.3261\n",
      "24     5.5649\n",
      "25    18.9450\n",
      "26    12.8280\n",
      "27    10.9570\n",
      "28    13.1760\n",
      "29    22.2030\n",
      "       ...   \n",
      "67    10.2360\n",
      "68     5.4994\n",
      "69    20.3410\n",
      "70    10.1360\n",
      "71     7.3345\n",
      "72     6.0062\n",
      "73     7.2259\n",
      "74     5.0269\n",
      "75     6.5479\n",
      "76     7.5386\n",
      "77     5.0365\n",
      "78    10.2740\n",
      "79     5.1077\n",
      "80     5.7292\n",
      "81     5.1884\n",
      "82     6.3557\n",
      "83     9.7687\n",
      "84     6.5159\n",
      "85     8.5172\n",
      "86     9.1802\n",
      "87     6.0020\n",
      "88     5.5204\n",
      "89     5.0594\n",
      "90     5.7077\n",
      "91     7.6366\n",
      "92     5.8707\n",
      "93     5.3054\n",
      "94     8.2934\n",
      "95    13.3940\n",
      "96     5.4369\n",
      "Name: Population, Length: 97, dtype: float64\n"
     ]
    },
    {
     "data": {
      "image/png": "[encoded data removed]",
      "text/plain": [
       "<matplotlib.figure.Figure at 0x2e007ced630>"
      ]
     },
     "metadata": {},
     "output_type": "display_data"
    }
   ],
   "source": [
    "from sklearn.linear_model import LinearRegression\n",
    "lr = LinearRegression()\n",
    "data_new = pd.read_csv(\"ex1data1.txt\", header=None, names=[\"Population\", \"Profit\"])\n",
    "# data_x = data[\"Population\"]\n",
    "# data_y = data[\"Profit\"]\n",
    "data_x = data_new.iloc[:,0]\n",
    "data_y = data_new.iloc[:,1]\n",
    "lr.fit(np.matrix(data_x), np.matrix(data_y))\n",
    "print(np.matrix(data_x))\n",
    "fig, ax = plt.subplots(figsize=(8,5))\n",
    "#ax.plot(x, f, 'r', label='Prediction')\n",
    "ax.scatter(data.Population, data.Profit, label='Traning Data')\n",
    "ax.legend(loc=2)\n",
    "ax.set_xlabel('Population')\n",
    "ax.set_ylabel('Profit')\n",
    "ax.set_title('Predicted Profit vs. Population Size')\n",
    "\n",
    "ax.plot(data_x, pre_y, 'r')\n",
    "print(data_x)"
   ]
  },
  {
   "cell_type": "code",
   "execution_count": 337,
   "metadata": {},
   "outputs": [
    {
     "name": "stdout",
     "output_type": "stream",
     "text": [
      "<class 'pandas.core.frame.DataFrame'> <class 'pandas.core.series.Series'>\n",
      "(47, 2) (47,)\n",
      "[356283.1103389  286120.93063401 397489.46984812 269244.1857271\n",
      " 472277.85514636 330979.02101847 276933.02614885 262037.48402897\n",
      " 255494.58235014 271364.59918815 324714.54068768 341805.20024107\n",
      " 326492.02609913 669293.21223209 239902.98686016 374830.38333402\n",
      " 255879.96102141 235448.2452916  417846.48160547 476593.38604091\n",
      " 309369.11319496 334951.62386342 286677.77333009 327777.17551607\n",
      " 604913.37413438 216515.5936252  266353.01492351 415030.01477434\n",
      " 369647.33504459 430482.39959029 328130.30083656 220070.5644481\n",
      " 338635.60808944 500087.73659911 306756.36373941 263429.59076914\n",
      " 235865.87731365 351442.99009906 641418.82407778 355619.31031959\n",
      " 303768.43288347 374937.34065726 411999.63329673 230436.66102696\n",
      " 190729.36558116 312464.00137413 230854.29304902]\n",
      "        Size  Bedrooms\n",
      "0   0.130010 -0.223675\n",
      "1  -0.504190 -0.223675\n",
      "2   0.502476 -0.223675\n",
      "3  -0.735723 -1.537767\n",
      "4   1.257476  1.090417\n",
      "5  -0.019732  1.090417\n",
      "6  -0.587240 -0.223675\n",
      "7  -0.721881 -0.223675\n",
      "8  -0.781023 -0.223675\n",
      "9  -0.637573 -0.223675\n",
      "10 -0.076357  1.090417\n",
      "11 -0.000857 -0.223675\n",
      "12 -0.139273 -0.223675\n",
      "13  3.117292  2.404508\n",
      "14 -0.921956 -0.223675\n",
      "15  0.376643  1.090417\n",
      "16 -0.856523 -1.537767\n",
      "17 -0.962223 -0.223675\n",
      "18  0.765468  1.090417\n",
      "19  1.296484  1.090417\n",
      "20 -0.294048 -0.223675\n",
      "21 -0.141790 -1.537767\n",
      "22 -0.499157 -0.223675\n",
      "23 -0.048673  1.090417\n",
      "24  2.377392 -0.223675\n",
      "25 -1.133356 -0.223675\n",
      "26 -0.682873 -0.223675\n",
      "27  0.661026 -0.223675\n",
      "28  0.250810 -0.223675\n",
      "29  0.800701 -0.223675\n",
      "30 -0.203448 -1.537767\n",
      "31 -1.259189 -2.851859\n",
      "32  0.049477  1.090417\n",
      "33  1.429868 -0.223675\n",
      "34 -0.238682  1.090417\n",
      "35 -0.709298 -0.223675\n",
      "36 -0.958448 -0.223675\n",
      "37  0.165243  1.090417\n",
      "38  2.786350  1.090417\n",
      "39  0.202993  1.090417\n",
      "40 -0.423657 -1.537767\n",
      "41  0.298626 -0.223675\n",
      "42  0.712618  1.090417\n",
      "43 -1.007523 -0.223675\n",
      "44 -1.445423 -1.537767\n",
      "45 -0.187090  1.090417\n",
      "46 -1.003748 -0.223675\n",
      "0     399900\n",
      "1     329900\n",
      "2     369000\n",
      "3     232000\n",
      "4     539900\n",
      "5     299900\n",
      "6     314900\n",
      "7     198999\n",
      "8     212000\n",
      "9     242500\n",
      "10    239999\n",
      "11    347000\n",
      "12    329999\n",
      "13    699900\n",
      "14    259900\n",
      "15    449900\n",
      "16    299900\n",
      "17    199900\n",
      "18    499998\n",
      "19    599000\n",
      "20    252900\n",
      "21    255000\n",
      "22    242900\n",
      "23    259900\n",
      "24    573900\n",
      "25    249900\n",
      "26    464500\n",
      "27    469000\n",
      "28    475000\n",
      "29    299900\n",
      "30    349900\n",
      "31    169900\n",
      "32    314900\n",
      "33    579900\n",
      "34    285900\n",
      "35    249900\n",
      "36    229900\n",
      "37    345000\n",
      "38    549000\n",
      "39    287000\n",
      "40    368500\n",
      "41    329900\n",
      "42    314000\n",
      "43    299000\n",
      "44    179900\n",
      "45    299900\n",
      "46    239500\n",
      "Name: Price, dtype: int64\n"
     ]
    }
   ],
   "source": [
    "from sklearn.linear_model import LinearRegression\n",
    "data_x = data2.iloc[:,0:2]\n",
    "data_y = data2.iloc[:,2]\n",
    "print(type(data_x), type(data_y))\n",
    "print(data_x.shape, data_y.shape)\n",
    "model2 = LinearRegression()\n",
    "model2.fit(data_x, data_y)\n",
    "predict_y = model2.predict(data_x)\n",
    "print(predict_y)\n",
    "print(data_x)\n",
    "print(data_y)"
   ]
  },
  {
   "cell_type": "markdown",
   "metadata": {},
   "source": [
    "在练习2中，我们将看看分类问题的逻辑回归。"
   ]
  }
 ],
 "metadata": {
  "kernelspec": {
   "display_name": "Python 3",
   "language": "python",
   "name": "python3"
  },
  "language_info": {
   "codemirror_mode": {
    "name": "ipython",
    "version": 3
   },
   "file_extension": ".py",
   "mimetype": "text/x-python",
   "name": "python",
   "nbconvert_exporter": "python",
   "pygments_lexer": "ipython3",
   "version": "3.6.2"
  }
 },
 "nbformat": 4,
 "nbformat_minor": 1
}
